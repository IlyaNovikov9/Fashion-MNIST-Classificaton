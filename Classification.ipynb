{
 "cells": [
  {
   "cell_type": "code",
   "execution_count": 3,
   "id": "ad26a438",
   "metadata": {},
   "outputs": [],
   "source": [
    "import pandas as pd\n",
    "import numpy as np\n",
    "import matplotlib.pyplot as plt\n",
    "\n",
    "from sklearn.model_selection import train_test_split\n",
    "from sklearn.metrics import accuracy_score\n",
    "from sklearn.metrics import precision_score\n",
    "from sklearn.metrics import recall_score\n",
    "\n",
    "from sklearn.linear_model import LogisticRegression\n",
    "from sklearn.linear_model import SGDClassifier"
   ]
  },
  {
   "cell_type": "code",
   "execution_count": 4,
   "id": "5a4bc42a",
   "metadata": {},
   "outputs": [],
   "source": [
    "df = pd.read_csv(r'fashionmnist\\fashion-mnist_train.csv')"
   ]
  },
  {
   "cell_type": "code",
   "execution_count": 38,
   "id": "d06682ec",
   "metadata": {},
   "outputs": [],
   "source": [
    "df = df.sample(frac=0.3).reset_index(drop=True)"
   ]
  },
  {
   "cell_type": "code",
   "execution_count": 10,
   "id": "021cc734",
   "metadata": {},
   "outputs": [],
   "source": [
    "LOOKUP = {0: 'T-shirt',\n",
    "         1: 'Trouser',\n",
    "         2: 'Pullover',\n",
    "         3: 'Dress',\n",
    "         4: 'Coat',\n",
    "         5: 'Sandal',\n",
    "         6: 'Shirt',\n",
    "         7: 'Sneaker',\n",
    "         8: 'Bag',\n",
    "         9: 'Ankle boot'}"
   ]
  },
  {
   "cell_type": "code",
   "execution_count": 11,
   "id": "2e60806c",
   "metadata": {},
   "outputs": [],
   "source": [
    "def display_image(features, actual_label):\n",
    "    print(\"Actual label: \", LOOKUP[actual_label])\n",
    "    \n",
    "    plt.imshow(features.reshape(28,28))"
   ]
  },
  {
   "cell_type": "code",
   "execution_count": 12,
   "id": "517f2a94",
   "metadata": {},
   "outputs": [],
   "source": [
    "X = df[df.columns[1:]]\n",
    "\n",
    "Y = df['label']"
   ]
  },
  {
   "cell_type": "code",
   "execution_count": 39,
   "id": "13778461",
   "metadata": {},
   "outputs": [],
   "source": [
    "X = X/255."
   ]
  },
  {
   "cell_type": "code",
   "execution_count": 28,
   "id": "b6d9b985",
   "metadata": {},
   "outputs": [],
   "source": [
    "x_train, x_test, y_train, y_test = train_test_split(X, Y, test_size=0.2)"
   ]
  },
  {
   "cell_type": "code",
   "execution_count": 36,
   "id": "bce59c8d",
   "metadata": {},
   "outputs": [],
   "source": [
    "def summarize_classification(y_test,\n",
    "                            y_pred,\n",
    "                            avg_method='weighted'):\n",
    "    acc = accuracy_score(y_test, y_pred, normalize=True)\n",
    "    num_acc = accuracy_score(y_test, y_pred, normalize=False)\n",
    "    \n",
    "    prec = precision_score(y_test, y_pred, average='weighted')\n",
    "    recall = recall_score(y_test, y_pred, average='weighted')\n",
    "    \n",
    "    print(\"Test data count: \", len(y_test))\n",
    "    print(\"accuracy_count: \", num_acc)\n",
    "    print(\"accuracy score: \", acc)\n",
    "    print(\"precision score: \", prec)\n",
    "    print(\"recall_score: \", recall)"
   ]
  },
  {
   "cell_type": "code",
   "execution_count": 32,
   "id": "aaef1e65",
   "metadata": {},
   "outputs": [],
   "source": [
    "logistic_model = LogisticRegression(solver='sag', multi_class='auto', max_iter=10000).fit(x_train, y_train)"
   ]
  },
  {
   "cell_type": "code",
   "execution_count": 40,
   "id": "b3da700f",
   "metadata": {},
   "outputs": [],
   "source": [
    "y_pred = logistic_model.predict(x_test)"
   ]
  },
  {
   "cell_type": "code",
   "execution_count": 37,
   "id": "dfe4ea09",
   "metadata": {},
   "outputs": [
    {
     "name": "stdout",
     "output_type": "stream",
     "text": [
      "Test data count:  3600\n",
      "accuracy_count:  3034\n",
      "accuracy score:  0.8427777777777777\n",
      "precision score:  0.8435477097341072\n",
      "recall_score:  0.8427777777777777\n"
     ]
    }
   ],
   "source": [
    "summarize_classification(y_test, y_pred)"
   ]
  }
 ],
 "metadata": {
  "kernelspec": {
   "display_name": "Python 3 (ipykernel)",
   "language": "python",
   "name": "python3"
  },
  "language_info": {
   "codemirror_mode": {
    "name": "ipython",
    "version": 3
   },
   "file_extension": ".py",
   "mimetype": "text/x-python",
   "name": "python",
   "nbconvert_exporter": "python",
   "pygments_lexer": "ipython3",
   "version": "3.9.12"
  }
 },
 "nbformat": 4,
 "nbformat_minor": 5
}
